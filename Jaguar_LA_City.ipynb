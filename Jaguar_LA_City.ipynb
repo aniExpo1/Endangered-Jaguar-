{
 "cells": [
  {
   "cell_type": "code",
   "execution_count": 4,
   "metadata": {
    "collapsed": true
   },
   "outputs": [],
   "source": [
    "import pandas as pd\n",
    "import numpy as np\n",
    "import matplotlib.pyplot as plt\n",
    "import seaborn as sns\n",
    "from datetime import datetime\n",
    "import datetime\n",
    "%matplotlib inline\n",
    "sns.set_style('whitegrid')"
   ]
  },
  {
   "cell_type": "code",
   "execution_count": 7,
   "metadata": {
    "collapsed": true
   },
   "outputs": [],
   "source": [
    "from sklearn.preprocessing import StandardScaler\n",
    "from sklearn.model_selection import train_test_split, GridSearchCV, ShuffleSplit\n",
    "from sklearn.pipeline import Pipeline\n"
   ]
  },
  {
   "cell_type": "code",
   "execution_count": 6,
   "metadata": {},
   "outputs": [],
   "source": [
    "jaguar_df = pd.read_csv(\"./data/Endangered_Species__Jaguar_FWS.csv\", sep=\",\")"
   ]
  },
  {
   "cell_type": "code",
   "execution_count": 3,
   "metadata": {},
   "outputs": [
    {
     "data": {
      "text/html": [
       "<div>\n",
       "<table border=\"1\" class=\"dataframe\">\n",
       "  <thead>\n",
       "    <tr style=\"text-align: right;\">\n",
       "      <th></th>\n",
       "      <th>OBJECTID</th>\n",
       "      <th>COMNAME</th>\n",
       "      <th>SCINAME</th>\n",
       "      <th>UNITNAME</th>\n",
       "      <th>SUBUNITNAM</th>\n",
       "      <th>STATUS</th>\n",
       "      <th>PUBDATE</th>\n",
       "      <th>OfficeLead</th>\n",
       "      <th>FedRegPub</th>\n",
       "      <th>FWS_ListSt</th>\n",
       "      <th>SpeGroup</th>\n",
       "      <th>Shape__Area</th>\n",
       "      <th>Shape__Length</th>\n",
       "    </tr>\n",
       "  </thead>\n",
       "  <tbody>\n",
       "    <tr>\n",
       "      <th>0</th>\n",
       "      <td>1</td>\n",
       "      <td>Jaguar</td>\n",
       "      <td>Panthera onca</td>\n",
       "      <td>Baboquivari</td>\n",
       "      <td>Southern Baboquivari</td>\n",
       "      <td>Final</td>\n",
       "      <td>20140305</td>\n",
       "      <td>Region 2 - Southwest</td>\n",
       "      <td>79FR12572</td>\n",
       "      <td>Endangered</td>\n",
       "      <td>Mammals</td>\n",
       "      <td>0.008132</td>\n",
       "      <td>0.598357</td>\n",
       "    </tr>\n",
       "    <tr>\n",
       "      <th>1</th>\n",
       "      <td>2</td>\n",
       "      <td>Jaguar</td>\n",
       "      <td>Panthera onca</td>\n",
       "      <td>Baboquivari</td>\n",
       "      <td>Southern Baboquivari</td>\n",
       "      <td>Final</td>\n",
       "      <td>20140305</td>\n",
       "      <td>Region 2 - Southwest</td>\n",
       "      <td>79FR12572</td>\n",
       "      <td>Endangered</td>\n",
       "      <td>Mammals</td>\n",
       "      <td>0.000063</td>\n",
       "      <td>0.031705</td>\n",
       "    </tr>\n",
       "    <tr>\n",
       "      <th>2</th>\n",
       "      <td>3</td>\n",
       "      <td>Jaguar</td>\n",
       "      <td>Panthera onca</td>\n",
       "      <td>Whetstone</td>\n",
       "      <td>Whetstone-Santa Rita</td>\n",
       "      <td>Final</td>\n",
       "      <td>20140305</td>\n",
       "      <td>Region 2 - Southwest</td>\n",
       "      <td>79FR12572</td>\n",
       "      <td>Endangered</td>\n",
       "      <td>Mammals</td>\n",
       "      <td>0.004903</td>\n",
       "      <td>0.366372</td>\n",
       "    </tr>\n",
       "    <tr>\n",
       "      <th>3</th>\n",
       "      <td>4</td>\n",
       "      <td>Jaguar</td>\n",
       "      <td>Panthera onca</td>\n",
       "      <td>Whetstone</td>\n",
       "      <td>Whetstone-Huachuca</td>\n",
       "      <td>Final</td>\n",
       "      <td>20140305</td>\n",
       "      <td>Region 2 - Southwest</td>\n",
       "      <td>79FR12572</td>\n",
       "      <td>Endangered</td>\n",
       "      <td>Mammals</td>\n",
       "      <td>0.007342</td>\n",
       "      <td>0.553162</td>\n",
       "    </tr>\n",
       "    <tr>\n",
       "      <th>4</th>\n",
       "      <td>5</td>\n",
       "      <td>Jaguar</td>\n",
       "      <td>Panthera onca</td>\n",
       "      <td>San Luis</td>\n",
       "      <td></td>\n",
       "      <td>Final</td>\n",
       "      <td>20140305</td>\n",
       "      <td>Region 2 - Southwest</td>\n",
       "      <td>79FR12572</td>\n",
       "      <td>Endangered</td>\n",
       "      <td>Mammals</td>\n",
       "      <td>0.002959</td>\n",
       "      <td>0.250910</td>\n",
       "    </tr>\n",
       "  </tbody>\n",
       "</table>\n",
       "</div>"
      ],
      "text/plain": [
       "   OBJECTID COMNAME        SCINAME     UNITNAME            SUBUNITNAM STATUS  \\\n",
       "0         1  Jaguar  Panthera onca  Baboquivari  Southern Baboquivari  Final   \n",
       "1         2  Jaguar  Panthera onca  Baboquivari  Southern Baboquivari  Final   \n",
       "2         3  Jaguar  Panthera onca    Whetstone  Whetstone-Santa Rita  Final   \n",
       "3         4  Jaguar  Panthera onca    Whetstone    Whetstone-Huachuca  Final   \n",
       "4         5  Jaguar  Panthera onca     San Luis                        Final   \n",
       "\n",
       "    PUBDATE            OfficeLead  FedRegPub  FWS_ListSt SpeGroup  \\\n",
       "0  20140305  Region 2 - Southwest  79FR12572  Endangered  Mammals   \n",
       "1  20140305  Region 2 - Southwest  79FR12572  Endangered  Mammals   \n",
       "2  20140305  Region 2 - Southwest  79FR12572  Endangered  Mammals   \n",
       "3  20140305  Region 2 - Southwest  79FR12572  Endangered  Mammals   \n",
       "4  20140305  Region 2 - Southwest  79FR12572  Endangered  Mammals   \n",
       "\n",
       "   Shape__Area  Shape__Length  \n",
       "0     0.008132       0.598357  \n",
       "1     0.000063       0.031705  \n",
       "2     0.004903       0.366372  \n",
       "3     0.007342       0.553162  \n",
       "4     0.002959       0.250910  "
      ]
     },
     "execution_count": 3,
     "metadata": {},
     "output_type": "execute_result"
    }
   ],
   "source": [
    "jaguar_df.head()"
   ]
  },
  {
   "cell_type": "code",
   "execution_count": 4,
   "metadata": {},
   "outputs": [
    {
     "data": {
      "text/plain": [
       "(14, 13)"
      ]
     },
     "execution_count": 4,
     "metadata": {},
     "output_type": "execute_result"
    }
   ],
   "source": [
    "jaguar_df.shape"
   ]
  },
  {
   "cell_type": "code",
   "execution_count": 5,
   "metadata": {},
   "outputs": [
    {
     "name": "stdout",
     "output_type": "stream",
     "text": [
      "<class 'pandas.core.frame.DataFrame'>\n",
      "RangeIndex: 14 entries, 0 to 13\n",
      "Data columns (total 13 columns):\n",
      "OBJECTID         14 non-null int64\n",
      "COMNAME          14 non-null object\n",
      "SCINAME          14 non-null object\n",
      "UNITNAME         14 non-null object\n",
      "SUBUNITNAM       14 non-null object\n",
      "STATUS           14 non-null object\n",
      "PUBDATE          14 non-null int64\n",
      "OfficeLead       14 non-null object\n",
      "FedRegPub        14 non-null object\n",
      "FWS_ListSt       14 non-null object\n",
      "SpeGroup         14 non-null object\n",
      "Shape__Area      14 non-null float64\n",
      "Shape__Length    14 non-null float64\n",
      "dtypes: float64(2), int64(2), object(9)\n",
      "memory usage: 1.5+ KB\n"
     ]
    }
   ],
   "source": [
    "jaguar_df.info()"
   ]
  },
  {
   "cell_type": "code",
   "execution_count": 6,
   "metadata": {},
   "outputs": [
    {
     "data": {
      "text/plain": [
       "OBJECTID         0\n",
       "COMNAME          0\n",
       "SCINAME          0\n",
       "UNITNAME         0\n",
       "SUBUNITNAM       0\n",
       "STATUS           0\n",
       "PUBDATE          0\n",
       "OfficeLead       0\n",
       "FedRegPub        0\n",
       "FWS_ListSt       0\n",
       "SpeGroup         0\n",
       "Shape__Area      0\n",
       "Shape__Length    0\n",
       "dtype: int64"
      ]
     },
     "execution_count": 6,
     "metadata": {},
     "output_type": "execute_result"
    }
   ],
   "source": [
    "jaguar_df.isnull().sum()"
   ]
  },
  {
   "cell_type": "code",
   "execution_count": 18,
   "metadata": {},
   "outputs": [
    {
     "data": {
      "text/plain": [
       "<seaborn.axisgrid.PairGrid at 0x7fa817e52748>"
      ]
     },
     "execution_count": 18,
     "metadata": {},
     "output_type": "execute_result"
    },
    {
     "data": {
      "image/png": "[encoded data removed]",
      "text/plain": [
       "<matplotlib.figure.Figure at 0x7fa817e6d978>"
      ]
     },
     "metadata": {},
     "output_type": "display_data"
    }
   ],
   "source": [
    "sns.pairplot(jaguar_df)"
   ]
  },
  {
   "cell_type": "code",
   "execution_count": 20,
   "metadata": {},
   "outputs": [
    {
     "data": {
      "text/plain": [
       "<matplotlib.legend.Legend at 0x7fa80c1a8e80>"
      ]
     },
     "execution_count": 20,
     "metadata": {},
     "output_type": "execute_result"
    },
    {
     "data": {
      "image/png": "[encoded data removed]",
      "text/plain": [
       "<matplotlib.figure.Figure at 0x7fa80c1b8828>"
      ]
     },
     "metadata": {},
     "output_type": "display_data"
    }
   ],
   "source": [
    "ax = jaguar_df[[\"Shape__Area\",\"Shape__Length\"]].plot(kind= \"hist\", stacked=True , figsize=(10,5))\n",
    "ax.set_title('Stacked Histogram', fontsize=22)\n",
    "# x-axis labels\n",
    "ax.set_xlabel('Area--Length', fontsize=16)\n",
    "\n",
    "# y-axis labels\n",
    "ax.set_ylabel('Frequency', fontsize=16)\n",
    "\n",
    "ax.legend(loc=1)\n",
    "\n",
    "\n"
   ]
  },
  {
   "cell_type": "code",
   "execution_count": 34,
   "metadata": {},
   "outputs": [
    {
     "data": {
      "text/plain": [
       "<matplotlib.collections.PathCollection at 0x7fa80b2f0080>"
      ]
     },
     "execution_count": 34,
     "metadata": {},
     "output_type": "execute_result"
    },
    {
     "data": {
      "image/png": "[encoded data removed]",
      "text/plain": [
       "<matplotlib.figure.Figure at 0x7fa80b28a828>"
      ]
     },
     "metadata": {},
     "output_type": "display_data"
    }
   ],
   "source": [
    "x= jaguar_df[\"OBJECTID\"]\n",
    "y= jaguar_df[\"Shape__Area\"]\n",
    "fig= plt.figure(figsize=(10,8))\n",
    "plt.scatter(x,y)"
   ]
  },
  {
   "cell_type": "code",
   "execution_count": 33,
   "metadata": {},
   "outputs": [
    {
     "data": {
      "text/plain": [
       "<matplotlib.collections.PathCollection at 0x7fa80ba610b8>"
      ]
     },
     "execution_count": 33,
     "metadata": {},
     "output_type": "execute_result"
    },
    {
     "data": {
      "image/png": "[encoded data removed]",
      "text/plain": [
       "<matplotlib.figure.Figure at 0x7fa80bd781d0>"
      ]
     },
     "metadata": {},
     "output_type": "display_data"
    }
   ],
   "source": [
    "y2= jaguar_df[\"Shape__Length\"]\n",
    "fig = plt.figure(figsize=(10,8))\n",
    "plt.scatter(x,y2)"
   ]
  },
  {
   "cell_type": "code",
   "execution_count": 10,
   "metadata": {},
   "outputs": [
    {
     "data": {
      "text/html": [
       "<div>\n",
       "<table border=\"1\" class=\"dataframe\">\n",
       "  <thead>\n",
       "    <tr style=\"text-align: right;\">\n",
       "      <th></th>\n",
       "      <th>Shape__Length</th>\n",
       "      <th>Shape__Area</th>\n",
       "    </tr>\n",
       "  </thead>\n",
       "  <tbody>\n",
       "    <tr>\n",
       "      <th>9</th>\n",
       "      <td>0.012189</td>\n",
       "      <td>0.000008</td>\n",
       "    </tr>\n",
       "    <tr>\n",
       "      <th>10</th>\n",
       "      <td>0.022866</td>\n",
       "      <td>0.000015</td>\n",
       "    </tr>\n",
       "    <tr>\n",
       "      <th>11</th>\n",
       "      <td>1.649177</td>\n",
       "      <td>0.055647</td>\n",
       "    </tr>\n",
       "    <tr>\n",
       "      <th>12</th>\n",
       "      <td>1.158738</td>\n",
       "      <td>0.024084</td>\n",
       "    </tr>\n",
       "    <tr>\n",
       "      <th>13</th>\n",
       "      <td>5.472078</td>\n",
       "      <td>0.135180</td>\n",
       "    </tr>\n",
       "  </tbody>\n",
       "</table>\n",
       "</div>"
      ],
      "text/plain": [
       "    Shape__Length  Shape__Area\n",
       "9        0.012189     0.000008\n",
       "10       0.022866     0.000015\n",
       "11       1.649177     0.055647\n",
       "12       1.158738     0.024084\n",
       "13       5.472078     0.135180"
      ]
     },
     "execution_count": 10,
     "metadata": {},
     "output_type": "execute_result"
    }
   ],
   "source": [
    "jaguar_df[[\"Shape__Length\",\"Shape__Area\"]].tail()"
   ]
  },
  {
   "cell_type": "markdown",
   "metadata": {},
   "source": [
    "### The last sample seems different in Shape__Length & Shape__Area"
   ]
  },
  {
   "cell_type": "code",
   "execution_count": 12,
   "metadata": {},
   "outputs": [
    {
     "data": {
      "text/plain": [
       "Index(['OBJECTID', 'COMNAME', 'SCINAME', 'UNITNAME', 'SUBUNITNAM', 'STATUS',\n",
       "       'PUBDATE', 'OfficeLead', 'FedRegPub', 'FWS_ListSt', 'SpeGroup',\n",
       "       'Shape__Area', 'Shape__Length'],\n",
       "      dtype='object')"
      ]
     },
     "execution_count": 12,
     "metadata": {},
     "output_type": "execute_result"
    }
   ],
   "source": [
    "jaguar_df.columns"
   ]
  },
  {
   "cell_type": "code",
   "execution_count": 15,
   "metadata": {},
   "outputs": [
    {
     "data": {
      "text/plain": [
       "Baboquivari-Coyote      5\n",
       "                        4\n",
       "Southern Baboquivari    2\n",
       "Whetstone               1\n",
       "Whetstone-Huachuca      1\n",
       "Whetstone-Santa Rita    1\n",
       "Name: SUBUNITNAM, dtype: int64"
      ]
     },
     "execution_count": 15,
     "metadata": {},
     "output_type": "execute_result"
    }
   ],
   "source": [
    "jaguar_df[\"SUBUNITNAM\"].value_counts()"
   ]
  },
  {
   "cell_type": "code",
   "execution_count": 16,
   "metadata": {},
   "outputs": [
    {
     "data": {
      "text/plain": [
       "Baboquivari    7\n",
       "Whetstone      3\n",
       "Peloncillo     1\n",
       "Patagonia      1\n",
       "San Luis       1\n",
       "Atascosa       1\n",
       "Name: UNITNAME, dtype: int64"
      ]
     },
     "execution_count": 16,
     "metadata": {},
     "output_type": "execute_result"
    }
   ],
   "source": [
    "jaguar_df[\"UNITNAME\"].value_counts()"
   ]
  },
  {
   "cell_type": "markdown",
   "metadata": {},
   "source": [
    "### Looking at the correlations between numeric values"
   ]
  },
  {
   "cell_type": "code",
   "execution_count": 31,
   "metadata": {
    "collapsed": true
   },
   "outputs": [],
   "source": [
    "jaguar_corr_df = jaguar_df.drop(\"PUBDATE\", axis=1)\n",
    "jaguar_corr_df = jaguar_corr_df.corr()"
   ]
  },
  {
   "cell_type": "code",
   "execution_count": 32,
   "metadata": {},
   "outputs": [
    {
     "data": {
      "text/plain": [
       "<matplotlib.axes._subplots.AxesSubplot at 0x7fa80bd64f98>"
      ]
     },
     "execution_count": 32,
     "metadata": {},
     "output_type": "execute_result"
    },
    {
     "data": {
      "image/png": "[encoded data removed]",
      "text/plain": [
       "<matplotlib.figure.Figure at 0x7fa80bc47a90>"
      ]
     },
     "metadata": {},
     "output_type": "display_data"
    }
   ],
   "source": [
    "sns.heatmap(jaguar_corr_df, annot=True)"
   ]
  },
  {
   "cell_type": "code",
   "execution_count": 36,
   "metadata": {},
   "outputs": [
    {
     "data": {
      "text/plain": [
       "Index(['OBJECTID', 'COMNAME', 'SCINAME', 'UNITNAME', 'SUBUNITNAM', 'STATUS',\n",
       "       'PUBDATE', 'OfficeLead', 'FedRegPub', 'FWS_ListSt', 'SpeGroup',\n",
       "       'Shape__Area', 'Shape__Length'],\n",
       "      dtype='object')"
      ]
     },
     "execution_count": 36,
     "metadata": {},
     "output_type": "execute_result"
    }
   ],
   "source": [
    "jaguar_df.columns"
   ]
  },
  {
   "cell_type": "code",
   "execution_count": null,
   "metadata": {
    "collapsed": true
   },
   "outputs": [],
   "source": [
    "#import datetime\n",
    "#s = \"20120213\"\n",
    "#s_datetime = datetime.datetime.strptime(s, '%Y%m%d')\n",
    "#telecom_df['time'] = telecom_df['Comm Timedate String'].apply(lambda x:x.time())"
   ]
  },
  {
   "cell_type": "code",
   "execution_count": 76,
   "metadata": {},
   "outputs": [
    {
     "data": {
      "text/plain": [
       "array(['20140305'], dtype=object)"
      ]
     },
     "execution_count": 76,
     "metadata": {},
     "output_type": "execute_result"
    }
   ],
   "source": [
    "jaguar_df[\"PUBDATE\"].unique()"
   ]
  },
  {
   "cell_type": "code",
   "execution_count": 75,
   "metadata": {
    "collapsed": true
   },
   "outputs": [],
   "source": [
    "jaguar_df[\"PUBDATE\"] = jaguar_df[\"PUBDATE\"].astype(str)"
   ]
  },
  {
   "cell_type": "code",
   "execution_count": 77,
   "metadata": {},
   "outputs": [
    {
     "data": {
      "text/plain": [
       "dtype('O')"
      ]
     },
     "execution_count": 77,
     "metadata": {},
     "output_type": "execute_result"
    }
   ],
   "source": [
    "jaguar_df[\"PUBDATE\"].dtype"
   ]
  },
  {
   "cell_type": "code",
   "execution_count": 78,
   "metadata": {},
   "outputs": [
    {
     "data": {
      "text/plain": [
       "'20140305'"
      ]
     },
     "execution_count": 78,
     "metadata": {},
     "output_type": "execute_result"
    }
   ],
   "source": [
    "s= jaguar_df[\"PUBDATE\"][2]\n",
    "s"
   ]
  },
  {
   "cell_type": "code",
   "execution_count": 79,
   "metadata": {
    "collapsed": true
   },
   "outputs": [],
   "source": [
    "s_datetime = datetime.datetime.strptime(s, '%Y%m%d')"
   ]
  },
  {
   "cell_type": "code",
   "execution_count": 80,
   "metadata": {},
   "outputs": [
    {
     "data": {
      "text/plain": [
       "datetime.datetime(2014, 3, 5, 0, 0)"
      ]
     },
     "execution_count": 80,
     "metadata": {},
     "output_type": "execute_result"
    }
   ],
   "source": [
    "s_datetime"
   ]
  },
  {
   "cell_type": "code",
   "execution_count": 81,
   "metadata": {
    "collapsed": true
   },
   "outputs": [],
   "source": [
    "jaguar_df[\"PUBDATE\"] = pd.to_datetime(jaguar_df[\"PUBDATE\"])"
   ]
  },
  {
   "cell_type": "code",
   "execution_count": 85,
   "metadata": {
    "collapsed": true
   },
   "outputs": [],
   "source": [
    "jaguar_df[\"DATE\"] = jaguar_df[\"PUBDATE\"].apply(lambda x:x.date())\n"
   ]
  },
  {
   "cell_type": "code",
   "execution_count": 83,
   "metadata": {},
   "outputs": [
    {
     "data": {
      "text/html": [
       "<div>\n",
       "<table border=\"1\" class=\"dataframe\">\n",
       "  <thead>\n",
       "    <tr style=\"text-align: right;\">\n",
       "      <th></th>\n",
       "      <th>OBJECTID</th>\n",
       "      <th>COMNAME</th>\n",
       "      <th>SCINAME</th>\n",
       "      <th>UNITNAME</th>\n",
       "      <th>SUBUNITNAM</th>\n",
       "      <th>STATUS</th>\n",
       "      <th>PUBDATE</th>\n",
       "      <th>OfficeLead</th>\n",
       "      <th>FedRegPub</th>\n",
       "      <th>FWS_ListSt</th>\n",
       "      <th>SpeGroup</th>\n",
       "      <th>Shape__Area</th>\n",
       "      <th>Shape__Length</th>\n",
       "      <th>DATE</th>\n",
       "    </tr>\n",
       "  </thead>\n",
       "  <tbody>\n",
       "    <tr>\n",
       "      <th>0</th>\n",
       "      <td>1</td>\n",
       "      <td>Jaguar</td>\n",
       "      <td>Panthera onca</td>\n",
       "      <td>Baboquivari</td>\n",
       "      <td>Southern Baboquivari</td>\n",
       "      <td>Final</td>\n",
       "      <td>2014-03-05</td>\n",
       "      <td>Region 2 - Southwest</td>\n",
       "      <td>79FR12572</td>\n",
       "      <td>Endangered</td>\n",
       "      <td>Mammals</td>\n",
       "      <td>0.008132</td>\n",
       "      <td>0.598357</td>\n",
       "      <td>2014-03-05</td>\n",
       "    </tr>\n",
       "    <tr>\n",
       "      <th>1</th>\n",
       "      <td>2</td>\n",
       "      <td>Jaguar</td>\n",
       "      <td>Panthera onca</td>\n",
       "      <td>Baboquivari</td>\n",
       "      <td>Southern Baboquivari</td>\n",
       "      <td>Final</td>\n",
       "      <td>2014-03-05</td>\n",
       "      <td>Region 2 - Southwest</td>\n",
       "      <td>79FR12572</td>\n",
       "      <td>Endangered</td>\n",
       "      <td>Mammals</td>\n",
       "      <td>0.000063</td>\n",
       "      <td>0.031705</td>\n",
       "      <td>2014-03-05</td>\n",
       "    </tr>\n",
       "    <tr>\n",
       "      <th>2</th>\n",
       "      <td>3</td>\n",
       "      <td>Jaguar</td>\n",
       "      <td>Panthera onca</td>\n",
       "      <td>Whetstone</td>\n",
       "      <td>Whetstone-Santa Rita</td>\n",
       "      <td>Final</td>\n",
       "      <td>2014-03-05</td>\n",
       "      <td>Region 2 - Southwest</td>\n",
       "      <td>79FR12572</td>\n",
       "      <td>Endangered</td>\n",
       "      <td>Mammals</td>\n",
       "      <td>0.004903</td>\n",
       "      <td>0.366372</td>\n",
       "      <td>2014-03-05</td>\n",
       "    </tr>\n",
       "    <tr>\n",
       "      <th>3</th>\n",
       "      <td>4</td>\n",
       "      <td>Jaguar</td>\n",
       "      <td>Panthera onca</td>\n",
       "      <td>Whetstone</td>\n",
       "      <td>Whetstone-Huachuca</td>\n",
       "      <td>Final</td>\n",
       "      <td>2014-03-05</td>\n",
       "      <td>Region 2 - Southwest</td>\n",
       "      <td>79FR12572</td>\n",
       "      <td>Endangered</td>\n",
       "      <td>Mammals</td>\n",
       "      <td>0.007342</td>\n",
       "      <td>0.553162</td>\n",
       "      <td>2014-03-05</td>\n",
       "    </tr>\n",
       "    <tr>\n",
       "      <th>4</th>\n",
       "      <td>5</td>\n",
       "      <td>Jaguar</td>\n",
       "      <td>Panthera onca</td>\n",
       "      <td>San Luis</td>\n",
       "      <td></td>\n",
       "      <td>Final</td>\n",
       "      <td>2014-03-05</td>\n",
       "      <td>Region 2 - Southwest</td>\n",
       "      <td>79FR12572</td>\n",
       "      <td>Endangered</td>\n",
       "      <td>Mammals</td>\n",
       "      <td>0.002959</td>\n",
       "      <td>0.250910</td>\n",
       "      <td>2014-03-05</td>\n",
       "    </tr>\n",
       "  </tbody>\n",
       "</table>\n",
       "</div>"
      ],
      "text/plain": [
       "   OBJECTID COMNAME        SCINAME     UNITNAME            SUBUNITNAM STATUS  \\\n",
       "0         1  Jaguar  Panthera onca  Baboquivari  Southern Baboquivari  Final   \n",
       "1         2  Jaguar  Panthera onca  Baboquivari  Southern Baboquivari  Final   \n",
       "2         3  Jaguar  Panthera onca    Whetstone  Whetstone-Santa Rita  Final   \n",
       "3         4  Jaguar  Panthera onca    Whetstone    Whetstone-Huachuca  Final   \n",
       "4         5  Jaguar  Panthera onca     San Luis                        Final   \n",
       "\n",
       "     PUBDATE            OfficeLead  FedRegPub  FWS_ListSt SpeGroup  \\\n",
       "0 2014-03-05  Region 2 - Southwest  79FR12572  Endangered  Mammals   \n",
       "1 2014-03-05  Region 2 - Southwest  79FR12572  Endangered  Mammals   \n",
       "2 2014-03-05  Region 2 - Southwest  79FR12572  Endangered  Mammals   \n",
       "3 2014-03-05  Region 2 - Southwest  79FR12572  Endangered  Mammals   \n",
       "4 2014-03-05  Region 2 - Southwest  79FR12572  Endangered  Mammals   \n",
       "\n",
       "   Shape__Area  Shape__Length        DATE  \n",
       "0     0.008132       0.598357  2014-03-05  \n",
       "1     0.000063       0.031705  2014-03-05  \n",
       "2     0.004903       0.366372  2014-03-05  \n",
       "3     0.007342       0.553162  2014-03-05  \n",
       "4     0.002959       0.250910  2014-03-05  "
      ]
     },
     "execution_count": 83,
     "metadata": {},
     "output_type": "execute_result"
    }
   ],
   "source": [
    "jaguar_df.head()"
   ]
  },
  {
   "cell_type": "code",
   "execution_count": 88,
   "metadata": {},
   "outputs": [
    {
     "data": {
      "text/plain": [
       "Baboquivari    7\n",
       "Whetstone      3\n",
       "Peloncillo     1\n",
       "Patagonia      1\n",
       "San Luis       1\n",
       "Atascosa       1\n",
       "Name: UNITNAME, dtype: int64"
      ]
     },
     "execution_count": 88,
     "metadata": {},
     "output_type": "execute_result"
    }
   ],
   "source": [
    "jaguar_df[\"UNITNAME\"].value_counts()"
   ]
  },
  {
   "cell_type": "code",
   "execution_count": 99,
   "metadata": {},
   "outputs": [
    {
     "data": {
      "text/plain": [
       "UNITNAME\n",
       "Atascosa       1\n",
       "Baboquivari    7\n",
       "Patagonia      1\n",
       "Peloncillo     1\n",
       "San Luis       1\n",
       "Whetstone      3\n",
       "dtype: int64"
      ]
     },
     "execution_count": 99,
     "metadata": {},
     "output_type": "execute_result"
    }
   ],
   "source": [
    "jaguar_df.groupby([\"UNITNAME\"]).size()\n"
   ]
  },
  {
   "cell_type": "markdown",
   "metadata": {},
   "source": [
    "### Subsetting the dataset UnitName == Baboquivari"
   ]
  },
  {
   "cell_type": "code",
   "execution_count": 100,
   "metadata": {},
   "outputs": [
    {
     "data": {
      "text/html": [
       "<div>\n",
       "<table border=\"1\" class=\"dataframe\">\n",
       "  <thead>\n",
       "    <tr style=\"text-align: right;\">\n",
       "      <th></th>\n",
       "      <th>OBJECTID</th>\n",
       "      <th>COMNAME</th>\n",
       "      <th>SCINAME</th>\n",
       "      <th>UNITNAME</th>\n",
       "      <th>SUBUNITNAM</th>\n",
       "      <th>STATUS</th>\n",
       "      <th>PUBDATE</th>\n",
       "      <th>OfficeLead</th>\n",
       "      <th>FedRegPub</th>\n",
       "      <th>FWS_ListSt</th>\n",
       "      <th>SpeGroup</th>\n",
       "      <th>Shape__Area</th>\n",
       "      <th>Shape__Length</th>\n",
       "      <th>DATE</th>\n",
       "    </tr>\n",
       "  </thead>\n",
       "  <tbody>\n",
       "    <tr>\n",
       "      <th>0</th>\n",
       "      <td>1</td>\n",
       "      <td>Jaguar</td>\n",
       "      <td>Panthera onca</td>\n",
       "      <td>Baboquivari</td>\n",
       "      <td>Southern Baboquivari</td>\n",
       "      <td>Final</td>\n",
       "      <td>2014-03-05</td>\n",
       "      <td>Region 2 - Southwest</td>\n",
       "      <td>79FR12572</td>\n",
       "      <td>Endangered</td>\n",
       "      <td>Mammals</td>\n",
       "      <td>0.008132</td>\n",
       "      <td>0.598357</td>\n",
       "      <td>2014-03-05</td>\n",
       "    </tr>\n",
       "    <tr>\n",
       "      <th>1</th>\n",
       "      <td>2</td>\n",
       "      <td>Jaguar</td>\n",
       "      <td>Panthera onca</td>\n",
       "      <td>Baboquivari</td>\n",
       "      <td>Southern Baboquivari</td>\n",
       "      <td>Final</td>\n",
       "      <td>2014-03-05</td>\n",
       "      <td>Region 2 - Southwest</td>\n",
       "      <td>79FR12572</td>\n",
       "      <td>Endangered</td>\n",
       "      <td>Mammals</td>\n",
       "      <td>0.000063</td>\n",
       "      <td>0.031705</td>\n",
       "      <td>2014-03-05</td>\n",
       "    </tr>\n",
       "    <tr>\n",
       "      <th>6</th>\n",
       "      <td>7</td>\n",
       "      <td>Jaguar</td>\n",
       "      <td>Panthera onca</td>\n",
       "      <td>Baboquivari</td>\n",
       "      <td>Baboquivari-Coyote</td>\n",
       "      <td>Final</td>\n",
       "      <td>2014-03-05</td>\n",
       "      <td>Region 2 - Southwest</td>\n",
       "      <td>79FR12572</td>\n",
       "      <td>Endangered</td>\n",
       "      <td>Mammals</td>\n",
       "      <td>0.000241</td>\n",
       "      <td>0.094818</td>\n",
       "      <td>2014-03-05</td>\n",
       "    </tr>\n",
       "    <tr>\n",
       "      <th>7</th>\n",
       "      <td>8</td>\n",
       "      <td>Jaguar</td>\n",
       "      <td>Panthera onca</td>\n",
       "      <td>Baboquivari</td>\n",
       "      <td>Baboquivari-Coyote</td>\n",
       "      <td>Final</td>\n",
       "      <td>2014-03-05</td>\n",
       "      <td>Region 2 - Southwest</td>\n",
       "      <td>79FR12572</td>\n",
       "      <td>Endangered</td>\n",
       "      <td>Mammals</td>\n",
       "      <td>0.001606</td>\n",
       "      <td>0.229277</td>\n",
       "      <td>2014-03-05</td>\n",
       "    </tr>\n",
       "    <tr>\n",
       "      <th>8</th>\n",
       "      <td>9</td>\n",
       "      <td>Jaguar</td>\n",
       "      <td>Panthera onca</td>\n",
       "      <td>Baboquivari</td>\n",
       "      <td>Baboquivari-Coyote</td>\n",
       "      <td>Final</td>\n",
       "      <td>2014-03-05</td>\n",
       "      <td>Region 2 - Southwest</td>\n",
       "      <td>79FR12572</td>\n",
       "      <td>Endangered</td>\n",
       "      <td>Mammals</td>\n",
       "      <td>0.014253</td>\n",
       "      <td>0.865111</td>\n",
       "      <td>2014-03-05</td>\n",
       "    </tr>\n",
       "    <tr>\n",
       "      <th>9</th>\n",
       "      <td>10</td>\n",
       "      <td>Jaguar</td>\n",
       "      <td>Panthera onca</td>\n",
       "      <td>Baboquivari</td>\n",
       "      <td>Baboquivari-Coyote</td>\n",
       "      <td>Final</td>\n",
       "      <td>2014-03-05</td>\n",
       "      <td>Region 2 - Southwest</td>\n",
       "      <td>79FR12572</td>\n",
       "      <td>Endangered</td>\n",
       "      <td>Mammals</td>\n",
       "      <td>0.000008</td>\n",
       "      <td>0.012189</td>\n",
       "      <td>2014-03-05</td>\n",
       "    </tr>\n",
       "    <tr>\n",
       "      <th>10</th>\n",
       "      <td>11</td>\n",
       "      <td>Jaguar</td>\n",
       "      <td>Panthera onca</td>\n",
       "      <td>Baboquivari</td>\n",
       "      <td>Baboquivari-Coyote</td>\n",
       "      <td>Final</td>\n",
       "      <td>2014-03-05</td>\n",
       "      <td>Region 2 - Southwest</td>\n",
       "      <td>79FR12572</td>\n",
       "      <td>Endangered</td>\n",
       "      <td>Mammals</td>\n",
       "      <td>0.000015</td>\n",
       "      <td>0.022866</td>\n",
       "      <td>2014-03-05</td>\n",
       "    </tr>\n",
       "  </tbody>\n",
       "</table>\n",
       "</div>"
      ],
      "text/plain": [
       "    OBJECTID COMNAME        SCINAME     UNITNAME            SUBUNITNAM STATUS  \\\n",
       "0          1  Jaguar  Panthera onca  Baboquivari  Southern Baboquivari  Final   \n",
       "1          2  Jaguar  Panthera onca  Baboquivari  Southern Baboquivari  Final   \n",
       "6          7  Jaguar  Panthera onca  Baboquivari    Baboquivari-Coyote  Final   \n",
       "7          8  Jaguar  Panthera onca  Baboquivari    Baboquivari-Coyote  Final   \n",
       "8          9  Jaguar  Panthera onca  Baboquivari    Baboquivari-Coyote  Final   \n",
       "9         10  Jaguar  Panthera onca  Baboquivari    Baboquivari-Coyote  Final   \n",
       "10        11  Jaguar  Panthera onca  Baboquivari    Baboquivari-Coyote  Final   \n",
       "\n",
       "      PUBDATE            OfficeLead  FedRegPub  FWS_ListSt SpeGroup  \\\n",
       "0  2014-03-05  Region 2 - Southwest  79FR12572  Endangered  Mammals   \n",
       "1  2014-03-05  Region 2 - Southwest  79FR12572  Endangered  Mammals   \n",
       "6  2014-03-05  Region 2 - Southwest  79FR12572  Endangered  Mammals   \n",
       "7  2014-03-05  Region 2 - Southwest  79FR12572  Endangered  Mammals   \n",
       "8  2014-03-05  Region 2 - Southwest  79FR12572  Endangered  Mammals   \n",
       "9  2014-03-05  Region 2 - Southwest  79FR12572  Endangered  Mammals   \n",
       "10 2014-03-05  Region 2 - Southwest  79FR12572  Endangered  Mammals   \n",
       "\n",
       "    Shape__Area  Shape__Length        DATE  \n",
       "0      0.008132       0.598357  2014-03-05  \n",
       "1      0.000063       0.031705  2014-03-05  \n",
       "6      0.000241       0.094818  2014-03-05  \n",
       "7      0.001606       0.229277  2014-03-05  \n",
       "8      0.014253       0.865111  2014-03-05  \n",
       "9      0.000008       0.012189  2014-03-05  \n",
       "10     0.000015       0.022866  2014-03-05  "
      ]
     },
     "execution_count": 100,
     "metadata": {},
     "output_type": "execute_result"
    }
   ],
   "source": [
    "jaguar_df.groupby([\"UNITNAME\"]).get_group(\"Baboquivari\")"
   ]
  },
  {
   "cell_type": "code",
   "execution_count": 96,
   "metadata": {},
   "outputs": [
    {
     "data": {
      "image/png": "[encoded data removed]",
      "text/plain": [
       "<matplotlib.figure.Figure at 0x7fa80ae88208>"
      ]
     },
     "metadata": {},
     "output_type": "display_data"
    }
   ],
   "source": [
    "import pylab as pl\n",
    "x = range(0,14,1)\n",
    "xTicks = jaguar_df[\"UNITNAME\"]\n",
    "y = jaguar_df[\"OBJECTID\"]\n",
    "pl.xticks(x, xTicks)\n",
    "pl.xticks(range(15), xTicks, rotation=45) #writes strings with 45 degree angle\n",
    "pl.plot(x,y,'*')\n",
    "pl.show()"
   ]
  },
  {
   "cell_type": "code",
   "execution_count": null,
   "metadata": {
    "collapsed": true
   },
   "outputs": [],
   "source": []
  }
 ],
 "metadata": {
  "kernelspec": {
   "display_name": "Python 3",
   "language": "python",
   "name": "python3"
  },
  "language_info": {
   "codemirror_mode": {
    "name": "ipython",
    "version": 3
   },
   "file_extension": ".py",
   "mimetype": "text/x-python",
   "name": "python",
   "nbconvert_exporter": "python",
   "pygments_lexer": "ipython3",
   "version": "3.5.2"
  }
 },
 "nbformat": 4,
 "nbformat_minor": 2
}
